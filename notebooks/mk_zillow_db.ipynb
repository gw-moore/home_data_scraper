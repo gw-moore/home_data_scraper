{
 "cells": [
  {
   "cell_type": "code",
   "execution_count": 27,
   "metadata": {},
   "outputs": [],
   "source": [
    "import sqlite3\n",
    "import datetime"
   ]
  },
  {
   "cell_type": "code",
   "execution_count": 38,
   "metadata": {},
   "outputs": [],
   "source": [
    "conn = sqlite3.connect('dbs/zillow.db')"
   ]
  },
  {
   "cell_type": "code",
   "execution_count": 39,
   "metadata": {},
   "outputs": [],
   "source": [
    "c = conn.cursor()"
   ]
  },
  {
   "cell_type": "code",
   "execution_count": 43,
   "metadata": {},
   "outputs": [],
   "source": [
    "with conn:\n",
    "    c.execute(\"DROP TABLE zillow_listings\")"
   ]
  },
  {
   "cell_type": "code",
   "execution_count": 44,
   "metadata": {},
   "outputs": [
    {
     "data": {
      "text/plain": [
       "<sqlite3.Cursor at 0x7fb1ab9e9dc0>"
      ]
     },
     "execution_count": 44,
     "metadata": {},
     "output_type": "execute_result"
    }
   ],
   "source": [
    "c.execute(\"\"\"\n",
    "    CREATE TABLE zillow_listings (\n",
    "     url text,\n",
    "     parcel_number text,\n",
    "     address text,\n",
    "     zip_code text,\n",
    "     school_district text,\n",
    "     list_price integer,\n",
    "     list_date text,\n",
    "     bedrooms integer,\n",
    "     bathrooms_total integer,\n",
    "     bathrooms_full integer,\n",
    "     bathrooms_3_4 integer,\n",
    "     bathrooms_1_2 integer,\n",
    "     bathrooms_1_4 integer,\n",
    "     basement text,\n",
    "     new_construction text,\n",
    "     year_built text,\n",
    "     home_type text,\n",
    "     stories text ,\n",
    "     total_interior_livable_area_sqft integer,\n",
    "     lot_size_acres real,\n",
    "     region text,\n",
    "     tax_assessed_value_dollars integer,\n",
    "     annual_tax_amount_dollars integer,\n",
    "     mls_id text,\n",
    "     mlsstatus text\n",
    "    )\"\"\")"
   ]
  },
  {
   "cell_type": "code",
   "execution_count": 45,
   "metadata": {},
   "outputs": [],
   "source": [
    "prop_attrs = {'url': 'https://www.zillow.com/homedetails/2736-Redfield-Pl-Cincinnati-OH-45230/34201144_zpid/',\n",
    " 'address': '2736_redfield_pl_cincinnati_oh',\n",
    " 'zip_code': '45230',\n",
    " 'school_district': 'oak hills',\n",
    " 'list_price': '131000',\n",
    " 'list_date': datetime.date(2020, 7, 9),\n",
    " 'bedrooms': '3',\n",
    " 'bathrooms_total': '1',\n",
    " 'bathrooms_full': '1',\n",
    " 'bathrooms_3_4': '0',\n",
    " 'bathrooms_1_2': '0',\n",
    " 'bathrooms_1_4': '0',\n",
    " 'basement': 'partially_finished',\n",
    " 'heating_features': 'baseboard',\n",
    " 'cooling_features': 'central',\n",
    " 'total_interior_livable_area_sqft': '896',\n",
    " 'parking_features': 'attached_garage',\n",
    " 'garage_spaces': '1',\n",
    " 'stories': '1',\n",
    " 'exterior_features': 'stucco',\n",
    " 'lot_size_acres': '0.14',\n",
    " 'parcel_number': '0030005001200',\n",
    " 'home_type': 'single_family',\n",
    " 'new_construction': 'no',\n",
    " 'year_built': '1947',\n",
    " 'internet_and_tv': 'NA',\n",
    " 'sunscore': 'great_solar_potentialsun_number™',\n",
    " 'region': 'cincinnati',\n",
    " 'tax_assessed_value_dollars': '90840',\n",
    " 'annual_tax_amount_dollars': '1703',\n",
    " 'mls_id': '1667515',\n",
    " 'mlsstatus': 'active',\n",
    " 'new_construction': 'yes'}"
   ]
  },
  {
   "cell_type": "code",
   "execution_count": 8,
   "metadata": {},
   "outputs": [],
   "source": [
    "new_records = []"
   ]
  },
  {
   "cell_type": "code",
   "execution_count": 10,
   "metadata": {},
   "outputs": [],
   "source": [
    "new_records.append(\n",
    "    (prop_attrs['url'],\n",
    "    prop_attrs['parcel_number'],\n",
    "    prop_attrs['address'],\n",
    "    prop_attrs['zip_code'],\n",
    "    prop_attrs['school_district'],\n",
    "    prop_attrs['list_price'],\n",
    "    prop_attrs['list_date'],\n",
    "    prop_attrs['bedrooms'],\n",
    "    prop_attrs['bathrooms'],\n",
    "    prop_attrs['full_bathrooms'],\n",
    "    prop_attrs['bathrooms_3_4'],\n",
    "    prop_attrs['bathrooms_1_2'],\n",
    "    prop_attrs['bathrooms_1_4'],\n",
    "    prop_attrs['basement'],\n",
    "    prop_attrs['new_construction'],\n",
    "    prop_attrs['year_built'],\n",
    "    prop_attrs['home_type'],\n",
    "    prop_attrs['stories'],\n",
    "    prop_attrs['total_interior_livable_area_sqft'],\n",
    "    prop_attrs['lot_size_acres'],\n",
    "    prop_attrs['region'],\n",
    "    prop_attrs['tax_assessed_value_dollars'],\n",
    "    prop_attrs['annual_tax_amount_dollars'],\n",
    "    prop_attrs['mls_id'],\n",
    "    prop_attrs['mlsstatus'],)\n",
    ")"
   ]
  },
  {
   "cell_type": "code",
   "execution_count": 11,
   "metadata": {},
   "outputs": [
    {
     "data": {
      "text/plain": [
       "[('https://www.zillow.com/homedetails/2736-Redfield-Pl-Cincinnati-OH-45230/34201144_zpid/',\n",
       "  '0030005001200',\n",
       "  '2736_redfield_pl_cincinnati_oh',\n",
       "  '45230',\n",
       "  'oak hills',\n",
       "  '131000',\n",
       "  datetime.date(2020, 7, 9),\n",
       "  '3',\n",
       "  '1',\n",
       "  '1',\n",
       "  '0',\n",
       "  '0',\n",
       "  '0',\n",
       "  'partially_finished',\n",
       "  'yes',\n",
       "  '1947',\n",
       "  'single_family',\n",
       "  '1',\n",
       "  '896',\n",
       "  '0.14',\n",
       "  'cincinnati',\n",
       "  '90840',\n",
       "  '1703',\n",
       "  '1667515',\n",
       "  'active')]"
      ]
     },
     "execution_count": 11,
     "metadata": {},
     "output_type": "execute_result"
    }
   ],
   "source": [
    "new_records"
   ]
  },
  {
   "cell_type": "code",
   "execution_count": 47,
   "metadata": {},
   "outputs": [
    {
     "data": {
      "text/plain": [
       "<sqlite3.Cursor at 0x7fb1ab9e9dc0>"
      ]
     },
     "execution_count": 47,
     "metadata": {},
     "output_type": "execute_result"
    }
   ],
   "source": [
    "c.execute(\"\"\"\n",
    "    INSERT INTO zillow_listings VALUES\n",
    "    (:url,\n",
    "     :parcel_number,\n",
    "     :address,\n",
    "     :zip_code,\n",
    "     :school_district,\n",
    "     :list_price,\n",
    "     :list_date,\n",
    "     :bedrooms,\n",
    "     :bathrooms_total,\n",
    "     :bathrooms_full,\n",
    "     :bathrooms_3_4,\n",
    "     :bathrooms_1_2,\n",
    "     :bathrooms_1_4,\n",
    "     :basement,\n",
    "     :new_construction,\n",
    "     :year_built,\n",
    "     :home_type,\n",
    "     :stories,\n",
    "     :total_interior_livable_area_sqft,\n",
    "     :lot_size_acres,\n",
    "     :region,\n",
    "     :tax_assessed_value_dollars,\n",
    "     :annual_tax_amount_dollars,\n",
    "     :mls_id,\n",
    "     :mlsstatus)\n",
    "     \"\"\",\n",
    "    prop_attrs)"
   ]
  },
  {
   "cell_type": "code",
   "execution_count": 41,
   "metadata": {},
   "outputs": [
    {
     "ename": "OperationalError",
     "evalue": "no such table: zillow_listings",
     "output_type": "error",
     "traceback": [
      "\u001b[0;31m---------------------------------------------------------------------------\u001b[0m",
      "\u001b[0;31mOperationalError\u001b[0m                          Traceback (most recent call last)",
      "\u001b[0;32m<ipython-input-41-3cc10f4ebfbe>\u001b[0m in \u001b[0;36m<module>\u001b[0;34m\u001b[0m\n\u001b[0;32m----> 1\u001b[0;31m \u001b[0mc\u001b[0m\u001b[0;34m.\u001b[0m\u001b[0mexecute\u001b[0m\u001b[0;34m(\u001b[0m\u001b[0;34m\"SELECT * FROM zillow_listings\"\u001b[0m\u001b[0;34m)\u001b[0m\u001b[0;34m\u001b[0m\u001b[0;34m\u001b[0m\u001b[0m\n\u001b[0m",
      "\u001b[0;31mOperationalError\u001b[0m: no such table: zillow_listings"
     ]
    }
   ],
   "source": [
    "c.execute(\"SELECT * FROM zillow_listings\")"
   ]
  },
  {
   "cell_type": "code",
   "execution_count": 37,
   "metadata": {},
   "outputs": [],
   "source": [
    "conn.commit()"
   ]
  },
  {
   "cell_type": "code",
   "execution_count": 35,
   "metadata": {},
   "outputs": [
    {
     "name": "stdout",
     "output_type": "stream",
     "text": [
      "[('https://www.zillow.com/homedetails/2736-Redfield-Pl-Cincinnati-OH-45230/34201144_zpid/', '0030005001200', '2736_redfield_pl_cincinnati_oh', '45230', 'oak hills', 131000, '2020-07-09', 3, 1, 1, 0, 0, 0, 'partially_finished', 'yes', '1947', 'single_family', '1', 896, 0.14, 'cincinnati', 90840, 1703, '1667515', 'active'), ('https://www.zillow.com/homedetails/2736-Redfield-Pl-Cincinnati-OH-45230/34201144_zpid/', '0030005001200', '2736_redfield_pl_cincinnati_oh', '45230', 'oak hills', 131000, '2020-07-09', 3, 1, 1, 0, 0, 0, 'partially_finished', 'yes', '1947', 'single_family', '1', 896, 0.14, 'cincinnati', 90840, 1703, '1667515', 'active'), ('https://www.zillow.com/homedetails/2736-Redfield-Pl-Cincinnati-OH-45230/34201144_zpid/', '0030005001200', '2736_redfield_pl_cincinnati_oh', '45230', 'oak hills', 131000, '2020-07-09', 3, 1, 1, 0, 0, 0, 'partially_finished', 'yes', '1947', 'single_family', '1', 896, 0.14, 'cincinnati', 90840, 1703, '1667515', 'active'), ('https://www.zillow.com/homedetails/2736-Redfield-Pl-Cincinnati-OH-45230/34201144_zpid/', '0030005001200', '2736_redfield_pl_cincinnati_oh', '45230', 'oak hills', 131000, '2020-07-09', 3, 1, 1, 0, 0, 0, 'partially_finished', 'yes', '1947', 'single_family', '1', 896, 0.14, 'cincinnati', 90840, 1703, '1667515', 'active')]\n"
     ]
    }
   ],
   "source": [
    "print(c.fetchall())"
   ]
  },
  {
   "cell_type": "code",
   "execution_count": 24,
   "metadata": {},
   "outputs": [],
   "source": [
    "import pandas as pd"
   ]
  },
  {
   "cell_type": "code",
   "execution_count": 25,
   "metadata": {},
   "outputs": [],
   "source": [
    "df = pd.read_sql_query(\"SELECT * from zillow_listings\", conn)"
   ]
  },
  {
   "cell_type": "code",
   "execution_count": 49,
   "metadata": {},
   "outputs": [],
   "source": [
    "conn.close()"
   ]
  },
  {
   "cell_type": "code",
   "execution_count": 26,
   "metadata": {},
   "outputs": [
    {
     "data": {
      "text/html": [
       "<div>\n",
       "<style scoped>\n",
       "    .dataframe tbody tr th:only-of-type {\n",
       "        vertical-align: middle;\n",
       "    }\n",
       "\n",
       "    .dataframe tbody tr th {\n",
       "        vertical-align: top;\n",
       "    }\n",
       "\n",
       "    .dataframe thead th {\n",
       "        text-align: right;\n",
       "    }\n",
       "</style>\n",
       "<table border=\"1\" class=\"dataframe\">\n",
       "  <thead>\n",
       "    <tr style=\"text-align: right;\">\n",
       "      <th></th>\n",
       "      <th>url</th>\n",
       "      <th>parcel_number</th>\n",
       "      <th>address</th>\n",
       "      <th>zip_code</th>\n",
       "      <th>school_district</th>\n",
       "      <th>list_price</th>\n",
       "      <th>list_date</th>\n",
       "      <th>bedrooms</th>\n",
       "      <th>bathrooms</th>\n",
       "      <th>full_bathrooms</th>\n",
       "      <th>...</th>\n",
       "      <th>year_built</th>\n",
       "      <th>home_type</th>\n",
       "      <th>stories</th>\n",
       "      <th>total_interior_livable_area_sqft</th>\n",
       "      <th>lot_size_acres</th>\n",
       "      <th>region</th>\n",
       "      <th>tax_assessed_value_dollars</th>\n",
       "      <th>annual_tax_amount_dollars</th>\n",
       "      <th>mls_id</th>\n",
       "      <th>mlsstatus</th>\n",
       "    </tr>\n",
       "  </thead>\n",
       "  <tbody>\n",
       "    <tr>\n",
       "      <th>0</th>\n",
       "      <td>https://www.zillow.com/homedetails/2736-Redfie...</td>\n",
       "      <td>0030005001200</td>\n",
       "      <td>2736_redfield_pl_cincinnati_oh</td>\n",
       "      <td>45230</td>\n",
       "      <td>oak hills</td>\n",
       "      <td>131000</td>\n",
       "      <td>2020-07-09</td>\n",
       "      <td>3</td>\n",
       "      <td>1</td>\n",
       "      <td>1</td>\n",
       "      <td>...</td>\n",
       "      <td>1947</td>\n",
       "      <td>single_family</td>\n",
       "      <td>1</td>\n",
       "      <td>896</td>\n",
       "      <td>0.14</td>\n",
       "      <td>cincinnati</td>\n",
       "      <td>90840</td>\n",
       "      <td>1703</td>\n",
       "      <td>1667515</td>\n",
       "      <td>active</td>\n",
       "    </tr>\n",
       "    <tr>\n",
       "      <th>1</th>\n",
       "      <td>https://www.zillow.com/homedetails/2736-Redfie...</td>\n",
       "      <td>0030005001200</td>\n",
       "      <td>2736_redfield_pl_cincinnati_oh</td>\n",
       "      <td>45230</td>\n",
       "      <td>oak hills</td>\n",
       "      <td>131000</td>\n",
       "      <td>2020-07-09</td>\n",
       "      <td>3</td>\n",
       "      <td>1</td>\n",
       "      <td>1</td>\n",
       "      <td>...</td>\n",
       "      <td>1947</td>\n",
       "      <td>single_family</td>\n",
       "      <td>1</td>\n",
       "      <td>896</td>\n",
       "      <td>0.14</td>\n",
       "      <td>cincinnati</td>\n",
       "      <td>90840</td>\n",
       "      <td>1703</td>\n",
       "      <td>1667515</td>\n",
       "      <td>active</td>\n",
       "    </tr>\n",
       "    <tr>\n",
       "      <th>2</th>\n",
       "      <td>https://www.zillow.com/homedetails/2736-Redfie...</td>\n",
       "      <td>0030005001200</td>\n",
       "      <td>2736_redfield_pl_cincinnati_oh</td>\n",
       "      <td>45230</td>\n",
       "      <td>oak hills</td>\n",
       "      <td>131000</td>\n",
       "      <td>2020-07-09</td>\n",
       "      <td>3</td>\n",
       "      <td>1</td>\n",
       "      <td>1</td>\n",
       "      <td>...</td>\n",
       "      <td>1947</td>\n",
       "      <td>single_family</td>\n",
       "      <td>1</td>\n",
       "      <td>896</td>\n",
       "      <td>0.14</td>\n",
       "      <td>cincinnati</td>\n",
       "      <td>90840</td>\n",
       "      <td>1703</td>\n",
       "      <td>1667515</td>\n",
       "      <td>active</td>\n",
       "    </tr>\n",
       "  </tbody>\n",
       "</table>\n",
       "<p>3 rows × 25 columns</p>\n",
       "</div>"
      ],
      "text/plain": [
       "                                                 url  parcel_number  \\\n",
       "0  https://www.zillow.com/homedetails/2736-Redfie...  0030005001200   \n",
       "1  https://www.zillow.com/homedetails/2736-Redfie...  0030005001200   \n",
       "2  https://www.zillow.com/homedetails/2736-Redfie...  0030005001200   \n",
       "\n",
       "                          address zip_code school_district  list_price  \\\n",
       "0  2736_redfield_pl_cincinnati_oh    45230       oak hills      131000   \n",
       "1  2736_redfield_pl_cincinnati_oh    45230       oak hills      131000   \n",
       "2  2736_redfield_pl_cincinnati_oh    45230       oak hills      131000   \n",
       "\n",
       "    list_date  bedrooms  bathrooms  full_bathrooms  ...  year_built  \\\n",
       "0  2020-07-09         3          1               1  ...        1947   \n",
       "1  2020-07-09         3          1               1  ...        1947   \n",
       "2  2020-07-09         3          1               1  ...        1947   \n",
       "\n",
       "       home_type  stories total_interior_livable_area_sqft lot_size_acres  \\\n",
       "0  single_family        1                              896           0.14   \n",
       "1  single_family        1                              896           0.14   \n",
       "2  single_family        1                              896           0.14   \n",
       "\n",
       "       region tax_assessed_value_dollars annual_tax_amount_dollars   mls_id  \\\n",
       "0  cincinnati                      90840                      1703  1667515   \n",
       "1  cincinnati                      90840                      1703  1667515   \n",
       "2  cincinnati                      90840                      1703  1667515   \n",
       "\n",
       "   mlsstatus  \n",
       "0     active  \n",
       "1     active  \n",
       "2     active  \n",
       "\n",
       "[3 rows x 25 columns]"
      ]
     },
     "execution_count": 26,
     "metadata": {},
     "output_type": "execute_result"
    }
   ],
   "source": [
    "df"
   ]
  }
 ],
 "metadata": {
  "kernelspec": {
   "display_name": "home_data",
   "language": "python",
   "name": "home_data"
  },
  "language_info": {
   "codemirror_mode": {
    "name": "ipython",
    "version": 3
   },
   "file_extension": ".py",
   "mimetype": "text/x-python",
   "name": "python",
   "nbconvert_exporter": "python",
   "pygments_lexer": "ipython3",
   "version": "3.7.6"
  }
 },
 "nbformat": 4,
 "nbformat_minor": 4
}
