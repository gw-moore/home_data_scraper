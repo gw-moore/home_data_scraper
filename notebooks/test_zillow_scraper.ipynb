{
 "cells": [
  {
   "cell_type": "code",
   "execution_count": 1,
   "metadata": {},
   "outputs": [],
   "source": [
    "from scraper import zillow as zs\n",
    "from typing import List, Dict, Tuple, Union\n",
    "from bs4 import BeautifulSoup\n",
    "import bs4\n",
    "import datetime as dt\n",
    "import pickle"
   ]
  },
  {
   "cell_type": "code",
   "execution_count": null,
   "metadata": {},
   "outputs": [],
   "source": [
    "# get card info from main page\n",
    "card_info = zs.get_card_info(url = 'https://www.zillow.com/hamilton-county-oh/')"
   ]
  },
  {
   "cell_type": "code",
   "execution_count": null,
   "metadata": {},
   "outputs": [],
   "source": [
    "# convert element of list to strings\n",
    "ci = []\n",
    "\n",
    "for i in card_info:\n",
    "    ci.append(str(i))"
   ]
  },
  {
   "cell_type": "code",
   "execution_count": null,
   "metadata": {},
   "outputs": [],
   "source": [
    "# lets save the card_info so we don't have to keep hitting zillow\n",
    "# if we have to restart the kernel\n",
    "with open('str_card_info.pkl', 'wb') as f:\n",
    "    pickle.dump(ci, f)"
   ]
  },
  {
   "cell_type": "code",
   "execution_count": 2,
   "metadata": {},
   "outputs": [],
   "source": [
    "# load card info pickle\n",
    "with open('str_card_info.pkl', 'rb') as f:\n",
    "    card_info = pickle.load(f)"
   ]
  },
  {
   "cell_type": "code",
   "execution_count": null,
   "metadata": {},
   "outputs": [],
   "source": [
    "len(card_info)"
   ]
  },
  {
   "cell_type": "code",
   "execution_count": null,
   "metadata": {},
   "outputs": [],
   "source": []
  },
  {
   "cell_type": "code",
   "execution_count": 3,
   "metadata": {},
   "outputs": [],
   "source": [
    "# extract the property urls from the cards\n",
    "prop_urls = zs.clean_home_url(card_info)"
   ]
  },
  {
   "cell_type": "code",
   "execution_count": null,
   "metadata": {},
   "outputs": [],
   "source": [
    "prop_urls"
   ]
  },
  {
   "cell_type": "code",
   "execution_count": 4,
   "metadata": {},
   "outputs": [],
   "source": [
    "prop_text = zs.get_prop_soup(prop_urls[0])"
   ]
  },
  {
   "cell_type": "code",
   "execution_count": 6,
   "metadata": {},
   "outputs": [
    {
     "data": {
      "text/plain": [
       "'5167-Valley-Ridge-Rd-Cincinnati-OH-45247'"
      ]
     },
     "execution_count": 6,
     "metadata": {},
     "output_type": "execute_result"
    }
   ],
   "source": [
    "prop_text[0]"
   ]
  },
  {
   "cell_type": "code",
   "execution_count": 14,
   "metadata": {},
   "outputs": [
    {
     "data": {
      "text/plain": [
       "bs4.BeautifulSoup"
      ]
     },
     "execution_count": 14,
     "metadata": {},
     "output_type": "execute_result"
    }
   ],
   "source": [
    "type(prop_text[1][prop_text[0]][1])"
   ]
  },
  {
   "cell_type": "code",
   "execution_count": 8,
   "metadata": {},
   "outputs": [],
   "source": [
    "# using the text from each property webpage\n",
    "# extract the property attributes\n",
    "prop_attrs = zs.extract_prop_atts(prop_text[1])"
   ]
  },
  {
   "cell_type": "code",
   "execution_count": 9,
   "metadata": {},
   "outputs": [
    {
     "data": {
      "text/plain": [
       "{'url': 'https://www.zillow.com/homedetails/5167-Valley-Ridge-Rd-Cincinnati-OH-45247/34341791_zpid/',\n",
       " 'address': '5167_valley_ridge_rd_cincinnati_oh',\n",
       " 'zip_code': '45247',\n",
       " 'school_district': 'oak hills local sd',\n",
       " 'list_price': '273500',\n",
       " 'list_date': datetime.date(2020, 8, 13),\n",
       " 'bedrooms': None,\n",
       " 'bathrooms_total': None,\n",
       " 'bathrooms_full': None,\n",
       " 'bathrooms_3_4': None,\n",
       " 'bathrooms_1_2': None,\n",
       " 'bathrooms_1_4': None,\n",
       " 'features': None,\n",
       " 'level': None,\n",
       " 'basement': None,\n",
       " 'flooring': None,\n",
       " 'flooring_0': None,\n",
       " 'flooring_1': None,\n",
       " 'flooring_2': None,\n",
       " 'heating_features': None,\n",
       " 'heating_features_0': None,\n",
       " 'heating_features_1': None,\n",
       " 'heating_features_2': None,\n",
       " 'total_number_of_fireplaces': None,\n",
       " 'cooling_features': None,\n",
       " 'appliances_included_0': None,\n",
       " 'appliances_included_1': None,\n",
       " 'appliances_included_2': None,\n",
       " 'appliances_included_3': None,\n",
       " 'appliances_included_4': None,\n",
       " 'appliances_included_5': None,\n",
       " 'appliances_included_6': None,\n",
       " 'appliances_included_7': None,\n",
       " 'total_interior_livable_area_sqft': None,\n",
       " 'finished_area_below_ground_sqft': None,\n",
       " 'parking_features': None,\n",
       " 'parking_features_0': None,\n",
       " 'parking_features_1': None,\n",
       " 'attached_garage': None,\n",
       " 'garage_spaces': None,\n",
       " 'covered_spaces': None,\n",
       " 'has_uncovered_spaces': None,\n",
       " 'stories': None,\n",
       " 'exterior_features': None,\n",
       " 'patio_and_porch_details': None,\n",
       " 'patio_and_porch_details_0': None,\n",
       " 'patio_and_porch_details_1': None,\n",
       " 'fencing': None,\n",
       " 'fencing_0': None,\n",
       " 'fencing_1': None,\n",
       " 'view_description': None,\n",
       " 'lot_size_acres': None,\n",
       " 'parcel_number': None,\n",
       " 'zoning_description': None,\n",
       " 'home_type': None,\n",
       " 'construction_materials': None,\n",
       " 'additional_structures_included': None,\n",
       " 'windows': None,\n",
       " 'windows_0': None,\n",
       " 'windows_1': None,\n",
       " 'windows_2': None,\n",
       " 'windows_3': None,\n",
       " 'new_construction': None,\n",
       " 'year_built': None,\n",
       " 'electric_information': None,\n",
       " 'gas_information': None,\n",
       " 'internet_and_tv': None,\n",
       " 'utilities_for_property': None,\n",
       " 'sunscore': None,\n",
       " 'security_features': None,\n",
       " 'region': None,\n",
       " 'tax_assessed_value_dollars': None,\n",
       " 'annual_tax_amount_dollars': None,\n",
       " 'mls_id': None,\n",
       " 'roof': None,\n",
       " 'roof_0': None,\n",
       " 'roof_1': None,\n",
       " 'interiorfeatures': None,\n",
       " 'bedroomspossible': None,\n",
       " 'farmlandareaunits': None,\n",
       " 'roadfrontagetype': None,\n",
       " 'currentuse': None,\n",
       " 'mlsstatus': None}"
      ]
     },
     "execution_count": 9,
     "metadata": {},
     "output_type": "execute_result"
    }
   ],
   "source": [
    "prop_attrs"
   ]
  },
  {
   "cell_type": "markdown",
   "metadata": {},
   "source": [
    "### Insert record into database"
   ]
  },
  {
   "cell_type": "code",
   "execution_count": 209,
   "metadata": {},
   "outputs": [],
   "source": [
    "import db_helpers.zillow_db as zdb"
   ]
  },
  {
   "cell_type": "code",
   "execution_count": 210,
   "metadata": {},
   "outputs": [],
   "source": [
    "conn = zdb.connect_to_zillow_db()"
   ]
  },
  {
   "cell_type": "code",
   "execution_count": 211,
   "metadata": {},
   "outputs": [],
   "source": [
    "c = conn.cursor()"
   ]
  },
  {
   "cell_type": "code",
   "execution_count": null,
   "metadata": {
    "jupyter": {
     "source_hidden": true
    }
   },
   "outputs": [],
   "source": [
    "prop_attrs['url'],\n",
    "prop_attrs['parcel_number'],\n",
    "prop_attrs['address'],\n",
    "prop_attrs['zip_code'],\n",
    "prop_attrs['school_district'],\n",
    "prop_attrs['list_price'],\n",
    "prop_attrs['list_date'],\n",
    "prop_attrs['bedrooms'],\n",
    "prop_attrs['bathrooms'],\n",
    "prop_attrs['full_bathrooms'],\n",
    "prop_attrs['bathrooms_3_4'],\n",
    "prop_attrs['bathrooms_1_2'],\n",
    "prop_attrs['bathrooms_1_4'],\n",
    "prop_attrs['basement'],\n",
    "prop_attrs['new_construction'],\n",
    "prop_attrs['year_built'],\n",
    "prop_attrs['home_type'],\n",
    "prop_attrs['stories'],\n",
    "prop_attrs['total_interior_livable_area_sqft'],\n",
    "prop_attrs['lot_size_acres'],\n",
    "prop_attrs['region'],\n",
    "prop_attrs['tax_assessed_value_dollars'],\n",
    "prop_attrs['annual_tax_amount_dollars'],\n",
    "prop_attrs['mls_id'],\n",
    "prop_attrs['mlsstatus']"
   ]
  },
  {
   "cell_type": "code",
   "execution_count": null,
   "metadata": {},
   "outputs": [],
   "source": [
    "prop_attrs['url'],\n",
    "prop_attrs['parcel_number'],\n",
    "prop_attrs['address'],\n",
    "prop_attrs['zip_code'],\n",
    "prop_attrs['school_district'],\n",
    "prop_attrs['list_price'],\n",
    "prop_attrs['list_date'],\n",
    "prop_attrs['bedrooms'],\n",
    "prop_attrs['bathrooms_total'],\n",
    "prop_attrs['bathrooms_full'],\n",
    "prop_attrs['bathrooms_3_4'],\n",
    "prop_attrs['bathrooms_1_2'],\n",
    "prop_attrs['bathrooms_1_4'],\n",
    "prop_attrs['basement'],\n",
    "prop_attrs['new_construction'],\n",
    "prop_attrs['year_built'],\n",
    "prop_attrs['home_type'],\n",
    "prop_attrs['stories'],\n",
    "prop_attrs['total_interior_livable_area_sqft'],\n",
    "prop_attrs['lot_size_acres'],\n",
    "prop_attrs['region'],\n",
    "prop_attrs['tax_assessed_value_dollars'],\n",
    "prop_attrs['annual_tax_amount_dollars'],\n",
    "prop_attrs['mls_id'],\n",
    "prop_attrs['mlsstatus'],"
   ]
  },
  {
   "cell_type": "code",
   "execution_count": null,
   "metadata": {},
   "outputs": [],
   "source": [
    "import datetime\n"
   ]
  },
  {
   "cell_type": "code",
   "execution_count": null,
   "metadata": {},
   "outputs": [],
   "source": [
    "list(range(5))"
   ]
  },
  {
   "cell_type": "code",
   "execution_count": null,
   "metadata": {},
   "outputs": [],
   "source": [
    "prop_attrs = {}"
   ]
  },
  {
   "cell_type": "code",
   "execution_count": null,
   "metadata": {},
   "outputs": [],
   "source": [
    "zdb.insert_listing_record(conn, record = prop_attrs)"
   ]
  },
  {
   "cell_type": "code",
   "execution_count": null,
   "metadata": {},
   "outputs": [],
   "source": [
    "zdb.get_listing_by_url(conn, {'url': prop_attrs['url']})"
   ]
  },
  {
   "cell_type": "code",
   "execution_count": 212,
   "metadata": {},
   "outputs": [
    {
     "data": {
      "text/plain": [
       "<sqlite3.Cursor at 0x7fbc60dccc70>"
      ]
     },
     "execution_count": 212,
     "metadata": {},
     "output_type": "execute_result"
    }
   ],
   "source": [
    "c.execute(\"SELECT * FROM zillow_listings\")"
   ]
  },
  {
   "cell_type": "code",
   "execution_count": 21,
   "metadata": {},
   "outputs": [],
   "source": [
    "import pandas as pd"
   ]
  },
  {
   "cell_type": "code",
   "execution_count": 217,
   "metadata": {},
   "outputs": [],
   "source": [
    "record = pd.read_sql(\"\"\"SELECT * \n",
    "                        FROM zillow_listings \n",
    "                        WHERE url='https://www.zillow.com/homedetails/5167-Valley-Ridge-Rd-Cincinnati-OH-45247/34341791_zpid/'\n",
    "                     \"\"\", conn)"
   ]
  },
  {
   "cell_type": "code",
   "execution_count": 248,
   "metadata": {
    "scrolled": true
   },
   "outputs": [
    {
     "data": {
      "text/plain": [
       "False"
      ]
     },
     "execution_count": 248,
     "metadata": {},
     "output_type": "execute_result"
    }
   ],
   "source": [
    "record.to_dict('records')[0] == prop_attrs"
   ]
  },
  {
   "cell_type": "code",
   "execution_count": 249,
   "metadata": {},
   "outputs": [
    {
     "data": {
      "text/plain": [
       "{'url': 'https://www.zillow.com/homedetails/5167-Valley-Ridge-Rd-Cincinnati-OH-45247/34341791_zpid/',\n",
       " 'parcel_number': None,\n",
       " 'address': '5167_valley_ridge_rd_cincinnati_oh',\n",
       " 'zip_code': '45247',\n",
       " 'school_district': 'oak hills local sd',\n",
       " 'list_price': 273500,\n",
       " 'list_date': '2020-08-13',\n",
       " 'bedrooms': None,\n",
       " 'bathrooms_total': None,\n",
       " 'bathrooms_full': None,\n",
       " 'bathrooms_3_4': None,\n",
       " 'bathrooms_1_2': None,\n",
       " 'bathrooms_1_4': None,\n",
       " 'basement': None,\n",
       " 'new_construction': None,\n",
       " 'year_built': None,\n",
       " 'home_type': None,\n",
       " 'stories': None,\n",
       " 'total_interior_livable_area_sqft': None,\n",
       " 'lot_size_acres': None,\n",
       " 'region': None,\n",
       " 'tax_assessed_value_dollars': None,\n",
       " 'annual_tax_amount_dollars': None,\n",
       " 'mls_id': None,\n",
       " 'mlsstatus': None}"
      ]
     },
     "execution_count": 249,
     "metadata": {},
     "output_type": "execute_result"
    }
   ],
   "source": [
    "record.to_dict('records')[0]"
   ]
  },
  {
   "cell_type": "code",
   "execution_count": 256,
   "metadata": {},
   "outputs": [],
   "source": [
    "from operator import itemgetter"
   ]
  },
  {
   "cell_type": "code",
   "execution_count": 257,
   "metadata": {},
   "outputs": [
    {
     "ename": "TypeError",
     "evalue": "'operator.itemgetter' object is not subscriptable",
     "output_type": "error",
     "traceback": [
      "\u001b[0;31m---------------------------------------------------------------------------\u001b[0m",
      "\u001b[0;31mTypeError\u001b[0m                                 Traceback (most recent call last)",
      "\u001b[0;32m<ipython-input-257-2df314c403f4>\u001b[0m in \u001b[0;36m<module>\u001b[0;34m\u001b[0m\n\u001b[0;32m----> 1\u001b[0;31m \u001b[0mitemgetter\u001b[0m\u001b[0;34m(\u001b[0m\u001b[0;34m'url'\u001b[0m\u001b[0;34m,\u001b[0m \u001b[0;34m'address'\u001b[0m\u001b[0;34m)\u001b[0m\u001b[0;34m[\u001b[0m\u001b[0mprop_attrs\u001b[0m\u001b[0;34m]\u001b[0m\u001b[0;34m\u001b[0m\u001b[0;34m\u001b[0m\u001b[0m\n\u001b[0m",
      "\u001b[0;31mTypeError\u001b[0m: 'operator.itemgetter' object is not subscriptable"
     ]
    }
   ],
   "source": [
    "itemgetter('url', 'address')[prop_attrs]"
   ]
  },
  {
   "cell_type": "code",
   "execution_count": 254,
   "metadata": {
    "scrolled": true
   },
   "outputs": [
    {
     "data": {
      "text/plain": [
       "'https://www.zillow.com/homedetails/5167-Valley-Ridge-Rd-Cincinnati-OH-45247/34341791_zpid/'"
      ]
     },
     "execution_count": 254,
     "metadata": {},
     "output_type": "execute_result"
    }
   ],
   "source": [
    "prop_attrs['url']"
   ]
  },
  {
   "cell_type": "code",
   "execution_count": null,
   "metadata": {},
   "outputs": [],
   "source": []
  },
  {
   "cell_type": "code",
   "execution_count": null,
   "metadata": {},
   "outputs": [],
   "source": []
  },
  {
   "cell_type": "code",
   "execution_count": 234,
   "metadata": {
    "scrolled": true
   },
   "outputs": [
    {
     "ename": "ValueError",
     "evalue": "If using all scalar values, you must pass an index",
     "output_type": "error",
     "traceback": [
      "\u001b[0;31m---------------------------------------------------------------------------\u001b[0m",
      "\u001b[0;31mValueError\u001b[0m                                Traceback (most recent call last)",
      "\u001b[0;32m<ipython-input-234-bff075aa7e02>\u001b[0m in \u001b[0;36m<module>\u001b[0;34m\u001b[0m\n\u001b[0;32m----> 1\u001b[0;31m \u001b[0mpd\u001b[0m\u001b[0;34m.\u001b[0m\u001b[0mDataFrame\u001b[0m\u001b[0;34m.\u001b[0m\u001b[0mfrom_dict\u001b[0m\u001b[0;34m(\u001b[0m\u001b[0mprop_attrs\u001b[0m\u001b[0;34m,\u001b[0m \u001b[0morient\u001b[0m\u001b[0;34m=\u001b[0m\u001b[0;34m'columns'\u001b[0m\u001b[0;34m)\u001b[0m\u001b[0;34m\u001b[0m\u001b[0;34m\u001b[0m\u001b[0m\n\u001b[0m",
      "\u001b[0;32m~/anaconda3/lib/python3.7/site-packages/pandas/core/frame.py\u001b[0m in \u001b[0;36mfrom_dict\u001b[0;34m(cls, data, orient, dtype, columns)\u001b[0m\n\u001b[1;32m   1245\u001b[0m             \u001b[0;32mraise\u001b[0m \u001b[0mValueError\u001b[0m\u001b[0;34m(\u001b[0m\u001b[0;34m\"only recognize index or columns for orient\"\u001b[0m\u001b[0;34m)\u001b[0m\u001b[0;34m\u001b[0m\u001b[0;34m\u001b[0m\u001b[0m\n\u001b[1;32m   1246\u001b[0m \u001b[0;34m\u001b[0m\u001b[0m\n\u001b[0;32m-> 1247\u001b[0;31m         \u001b[0;32mreturn\u001b[0m \u001b[0mcls\u001b[0m\u001b[0;34m(\u001b[0m\u001b[0mdata\u001b[0m\u001b[0;34m,\u001b[0m \u001b[0mindex\u001b[0m\u001b[0;34m=\u001b[0m\u001b[0mindex\u001b[0m\u001b[0;34m,\u001b[0m \u001b[0mcolumns\u001b[0m\u001b[0;34m=\u001b[0m\u001b[0mcolumns\u001b[0m\u001b[0;34m,\u001b[0m \u001b[0mdtype\u001b[0m\u001b[0;34m=\u001b[0m\u001b[0mdtype\u001b[0m\u001b[0;34m)\u001b[0m\u001b[0;34m\u001b[0m\u001b[0;34m\u001b[0m\u001b[0m\n\u001b[0m\u001b[1;32m   1248\u001b[0m \u001b[0;34m\u001b[0m\u001b[0m\n\u001b[1;32m   1249\u001b[0m     \u001b[0;32mdef\u001b[0m \u001b[0mto_numpy\u001b[0m\u001b[0;34m(\u001b[0m\u001b[0mself\u001b[0m\u001b[0;34m,\u001b[0m \u001b[0mdtype\u001b[0m\u001b[0;34m=\u001b[0m\u001b[0;32mNone\u001b[0m\u001b[0;34m,\u001b[0m \u001b[0mcopy\u001b[0m\u001b[0;34m=\u001b[0m\u001b[0;32mFalse\u001b[0m\u001b[0;34m)\u001b[0m \u001b[0;34m->\u001b[0m \u001b[0mnp\u001b[0m\u001b[0;34m.\u001b[0m\u001b[0mndarray\u001b[0m\u001b[0;34m:\u001b[0m\u001b[0;34m\u001b[0m\u001b[0;34m\u001b[0m\u001b[0m\n",
      "\u001b[0;32m~/anaconda3/lib/python3.7/site-packages/pandas/core/frame.py\u001b[0m in \u001b[0;36m__init__\u001b[0;34m(self, data, index, columns, dtype, copy)\u001b[0m\n\u001b[1;32m    433\u001b[0m             )\n\u001b[1;32m    434\u001b[0m         \u001b[0;32melif\u001b[0m \u001b[0misinstance\u001b[0m\u001b[0;34m(\u001b[0m\u001b[0mdata\u001b[0m\u001b[0;34m,\u001b[0m \u001b[0mdict\u001b[0m\u001b[0;34m)\u001b[0m\u001b[0;34m:\u001b[0m\u001b[0;34m\u001b[0m\u001b[0;34m\u001b[0m\u001b[0m\n\u001b[0;32m--> 435\u001b[0;31m             \u001b[0mmgr\u001b[0m \u001b[0;34m=\u001b[0m \u001b[0minit_dict\u001b[0m\u001b[0;34m(\u001b[0m\u001b[0mdata\u001b[0m\u001b[0;34m,\u001b[0m \u001b[0mindex\u001b[0m\u001b[0;34m,\u001b[0m \u001b[0mcolumns\u001b[0m\u001b[0;34m,\u001b[0m \u001b[0mdtype\u001b[0m\u001b[0;34m=\u001b[0m\u001b[0mdtype\u001b[0m\u001b[0;34m)\u001b[0m\u001b[0;34m\u001b[0m\u001b[0;34m\u001b[0m\u001b[0m\n\u001b[0m\u001b[1;32m    436\u001b[0m         \u001b[0;32melif\u001b[0m \u001b[0misinstance\u001b[0m\u001b[0;34m(\u001b[0m\u001b[0mdata\u001b[0m\u001b[0;34m,\u001b[0m \u001b[0mma\u001b[0m\u001b[0;34m.\u001b[0m\u001b[0mMaskedArray\u001b[0m\u001b[0;34m)\u001b[0m\u001b[0;34m:\u001b[0m\u001b[0;34m\u001b[0m\u001b[0;34m\u001b[0m\u001b[0m\n\u001b[1;32m    437\u001b[0m             \u001b[0;32mimport\u001b[0m \u001b[0mnumpy\u001b[0m\u001b[0;34m.\u001b[0m\u001b[0mma\u001b[0m\u001b[0;34m.\u001b[0m\u001b[0mmrecords\u001b[0m \u001b[0;32mas\u001b[0m \u001b[0mmrecords\u001b[0m\u001b[0;34m\u001b[0m\u001b[0;34m\u001b[0m\u001b[0m\n",
      "\u001b[0;32m~/anaconda3/lib/python3.7/site-packages/pandas/core/internals/construction.py\u001b[0m in \u001b[0;36minit_dict\u001b[0;34m(data, index, columns, dtype)\u001b[0m\n\u001b[1;32m    252\u001b[0m             \u001b[0marr\u001b[0m \u001b[0;32mif\u001b[0m \u001b[0;32mnot\u001b[0m \u001b[0mis_datetime64tz_dtype\u001b[0m\u001b[0;34m(\u001b[0m\u001b[0marr\u001b[0m\u001b[0;34m)\u001b[0m \u001b[0;32melse\u001b[0m \u001b[0marr\u001b[0m\u001b[0;34m.\u001b[0m\u001b[0mcopy\u001b[0m\u001b[0;34m(\u001b[0m\u001b[0;34m)\u001b[0m \u001b[0;32mfor\u001b[0m \u001b[0marr\u001b[0m \u001b[0;32min\u001b[0m \u001b[0marrays\u001b[0m\u001b[0;34m\u001b[0m\u001b[0;34m\u001b[0m\u001b[0m\n\u001b[1;32m    253\u001b[0m         ]\n\u001b[0;32m--> 254\u001b[0;31m     \u001b[0;32mreturn\u001b[0m \u001b[0marrays_to_mgr\u001b[0m\u001b[0;34m(\u001b[0m\u001b[0marrays\u001b[0m\u001b[0;34m,\u001b[0m \u001b[0mdata_names\u001b[0m\u001b[0;34m,\u001b[0m \u001b[0mindex\u001b[0m\u001b[0;34m,\u001b[0m \u001b[0mcolumns\u001b[0m\u001b[0;34m,\u001b[0m \u001b[0mdtype\u001b[0m\u001b[0;34m=\u001b[0m\u001b[0mdtype\u001b[0m\u001b[0;34m)\u001b[0m\u001b[0;34m\u001b[0m\u001b[0;34m\u001b[0m\u001b[0m\n\u001b[0m\u001b[1;32m    255\u001b[0m \u001b[0;34m\u001b[0m\u001b[0m\n\u001b[1;32m    256\u001b[0m \u001b[0;34m\u001b[0m\u001b[0m\n",
      "\u001b[0;32m~/anaconda3/lib/python3.7/site-packages/pandas/core/internals/construction.py\u001b[0m in \u001b[0;36marrays_to_mgr\u001b[0;34m(arrays, arr_names, index, columns, dtype)\u001b[0m\n\u001b[1;32m     62\u001b[0m     \u001b[0;31m# figure out the index, if necessary\u001b[0m\u001b[0;34m\u001b[0m\u001b[0;34m\u001b[0m\u001b[0;34m\u001b[0m\u001b[0m\n\u001b[1;32m     63\u001b[0m     \u001b[0;32mif\u001b[0m \u001b[0mindex\u001b[0m \u001b[0;32mis\u001b[0m \u001b[0;32mNone\u001b[0m\u001b[0;34m:\u001b[0m\u001b[0;34m\u001b[0m\u001b[0;34m\u001b[0m\u001b[0m\n\u001b[0;32m---> 64\u001b[0;31m         \u001b[0mindex\u001b[0m \u001b[0;34m=\u001b[0m \u001b[0mextract_index\u001b[0m\u001b[0;34m(\u001b[0m\u001b[0marrays\u001b[0m\u001b[0;34m)\u001b[0m\u001b[0;34m\u001b[0m\u001b[0;34m\u001b[0m\u001b[0m\n\u001b[0m\u001b[1;32m     65\u001b[0m     \u001b[0;32melse\u001b[0m\u001b[0;34m:\u001b[0m\u001b[0;34m\u001b[0m\u001b[0;34m\u001b[0m\u001b[0m\n\u001b[1;32m     66\u001b[0m         \u001b[0mindex\u001b[0m \u001b[0;34m=\u001b[0m \u001b[0mensure_index\u001b[0m\u001b[0;34m(\u001b[0m\u001b[0mindex\u001b[0m\u001b[0;34m)\u001b[0m\u001b[0;34m\u001b[0m\u001b[0;34m\u001b[0m\u001b[0m\n",
      "\u001b[0;32m~/anaconda3/lib/python3.7/site-packages/pandas/core/internals/construction.py\u001b[0m in \u001b[0;36mextract_index\u001b[0;34m(data)\u001b[0m\n\u001b[1;32m    353\u001b[0m \u001b[0;34m\u001b[0m\u001b[0m\n\u001b[1;32m    354\u001b[0m         \u001b[0;32mif\u001b[0m \u001b[0;32mnot\u001b[0m \u001b[0mindexes\u001b[0m \u001b[0;32mand\u001b[0m \u001b[0;32mnot\u001b[0m \u001b[0mraw_lengths\u001b[0m\u001b[0;34m:\u001b[0m\u001b[0;34m\u001b[0m\u001b[0;34m\u001b[0m\u001b[0m\n\u001b[0;32m--> 355\u001b[0;31m             \u001b[0;32mraise\u001b[0m \u001b[0mValueError\u001b[0m\u001b[0;34m(\u001b[0m\u001b[0;34m\"If using all scalar values, you must pass an index\"\u001b[0m\u001b[0;34m)\u001b[0m\u001b[0;34m\u001b[0m\u001b[0;34m\u001b[0m\u001b[0m\n\u001b[0m\u001b[1;32m    356\u001b[0m \u001b[0;34m\u001b[0m\u001b[0m\n\u001b[1;32m    357\u001b[0m         \u001b[0;32mif\u001b[0m \u001b[0mhave_series\u001b[0m\u001b[0;34m:\u001b[0m\u001b[0;34m\u001b[0m\u001b[0;34m\u001b[0m\u001b[0m\n",
      "\u001b[0;31mValueError\u001b[0m: If using all scalar values, you must pass an index"
     ]
    }
   ],
   "source": [
    "pd.DataFrame.from_dict(prop_attrs, orient='columns')"
   ]
  },
  {
   "cell_type": "code",
   "execution_count": 225,
   "metadata": {},
   "outputs": [
    {
     "data": {
      "text/plain": [
       "<bound method DataFrame.isin of                                                  url parcel_number  \\\n",
       "0  https://www.zillow.com/homedetails/5167-Valley...          None   \n",
       "\n",
       "                              address zip_code     school_district  \\\n",
       "0  5167_valley_ridge_rd_cincinnati_oh    45247  oak hills local sd   \n",
       "\n",
       "   list_price   list_date bedrooms bathrooms_total bathrooms_full  ...  \\\n",
       "0      273500  2020-08-13     None            None           None  ...   \n",
       "\n",
       "  year_built home_type stories total_interior_livable_area_sqft  \\\n",
       "0       None      None    None                             None   \n",
       "\n",
       "  lot_size_acres region tax_assessed_value_dollars annual_tax_amount_dollars  \\\n",
       "0           None   None                       None                      None   \n",
       "\n",
       "  mls_id mlsstatus  \n",
       "0   None      None  \n",
       "\n",
       "[1 rows x 25 columns]>"
      ]
     },
     "execution_count": 225,
     "metadata": {},
     "output_type": "execute_result"
    }
   ],
   "source": [
    "record.isin"
   ]
  },
  {
   "cell_type": "code",
   "execution_count": null,
   "metadata": {},
   "outputs": [],
   "source": []
  },
  {
   "cell_type": "code",
   "execution_count": 213,
   "metadata": {},
   "outputs": [
    {
     "data": {
      "text/plain": [
       "[('https://www.zillow.com/homedetails/5738-Fourson-Dr-Cincinnati-OH-45233/34326161_zpid/',\n",
       "  '5400111007100',\n",
       "  '5738_fourson_dr_cincinnati_oh',\n",
       "  '45233',\n",
       "  'oak hills local sd',\n",
       "  134900,\n",
       "  '2020-07-07',\n",
       "  3,\n",
       "  2,\n",
       "  1,\n",
       "  0,\n",
       "  1,\n",
       "  0,\n",
       "  'partially_finished',\n",
       "  'no',\n",
       "  '1960',\n",
       "  'single_family',\n",
       "  '1',\n",
       "  1490,\n",
       "  0.23,\n",
       "  'cincinnati',\n",
       "  115750,\n",
       "  2298,\n",
       "  '1667534',\n",
       "  'pending'),\n",
       " ('https://www.zillow.com/homedetails/5167-Valley-Ridge-Rd-Cincinnati-OH-45247/34341791_zpid/',\n",
       "  None,\n",
       "  '5167_valley_ridge_rd_cincinnati_oh',\n",
       "  '45247',\n",
       "  'oak hills local sd',\n",
       "  273500,\n",
       "  '2020-08-13',\n",
       "  None,\n",
       "  None,\n",
       "  None,\n",
       "  None,\n",
       "  None,\n",
       "  None,\n",
       "  None,\n",
       "  None,\n",
       "  None,\n",
       "  None,\n",
       "  None,\n",
       "  None,\n",
       "  None,\n",
       "  None,\n",
       "  None,\n",
       "  None,\n",
       "  None,\n",
       "  None)]"
      ]
     },
     "execution_count": 213,
     "metadata": {},
     "output_type": "execute_result"
    }
   ],
   "source": [
    "c.fetchall()"
   ]
  },
  {
   "cell_type": "code",
   "execution_count": 24,
   "metadata": {},
   "outputs": [
    {
     "data": {
      "text/plain": [
       "<sqlite3.Cursor at 0x7fbc5d139420>"
      ]
     },
     "execution_count": 24,
     "metadata": {},
     "output_type": "execute_result"
    }
   ],
   "source": [
    "c.execute(\"delete from zillow_listings\")"
   ]
  },
  {
   "cell_type": "code",
   "execution_count": null,
   "metadata": {},
   "outputs": [],
   "source": []
  },
  {
   "cell_type": "code",
   "execution_count": 25,
   "metadata": {},
   "outputs": [],
   "source": [
    "conn.close()"
   ]
  },
  {
   "cell_type": "code",
   "execution_count": null,
   "metadata": {},
   "outputs": [],
   "source": [
    "len([])"
   ]
  }
 ],
 "metadata": {
  "kernelspec": {
   "display_name": "home_data",
   "language": "python",
   "name": "home_data"
  },
  "language_info": {
   "codemirror_mode": {
    "name": "ipython",
    "version": 3
   },
   "file_extension": ".py",
   "mimetype": "text/x-python",
   "name": "python",
   "nbconvert_exporter": "python",
   "pygments_lexer": "ipython3",
   "version": "3.7.6"
  }
 },
 "nbformat": 4,
 "nbformat_minor": 4
}
